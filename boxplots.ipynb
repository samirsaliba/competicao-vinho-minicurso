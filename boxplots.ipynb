{
 "cells": [
  {
   "cell_type": "markdown",
   "id": "premier-prize",
   "metadata": {},
   "source": [
    "## Importando os dados"
   ]
  },
  {
   "cell_type": "code",
   "execution_count": 1,
   "id": "fleet-developer",
   "metadata": {},
   "outputs": [],
   "source": [
    "import pandas as pd"
   ]
  },
  {
   "cell_type": "code",
   "execution_count": 2,
   "id": "likely-browse",
   "metadata": {},
   "outputs": [],
   "source": [
    "df = pd.read_csv('train.csv', index_col=0)"
   ]
  },
  {
   "cell_type": "code",
   "execution_count": 3,
   "id": "promotional-coordination",
   "metadata": {},
   "outputs": [
    {
     "data": {
      "text/html": [
       "<div>\n",
       "<style scoped>\n",
       "    .dataframe tbody tr th:only-of-type {\n",
       "        vertical-align: middle;\n",
       "    }\n",
       "\n",
       "    .dataframe tbody tr th {\n",
       "        vertical-align: top;\n",
       "    }\n",
       "\n",
       "    .dataframe thead th {\n",
       "        text-align: right;\n",
       "    }\n",
       "</style>\n",
       "<table border=\"1\" class=\"dataframe\">\n",
       "  <thead>\n",
       "    <tr style=\"text-align: right;\">\n",
       "      <th></th>\n",
       "      <th>fixed acidity</th>\n",
       "      <th>volatile acidity</th>\n",
       "      <th>citric acid</th>\n",
       "      <th>residual sugar</th>\n",
       "      <th>chlorides</th>\n",
       "      <th>free sulfur dioxide</th>\n",
       "      <th>total sulfur dioxide</th>\n",
       "      <th>density</th>\n",
       "      <th>pH</th>\n",
       "      <th>sulphates</th>\n",
       "      <th>alcohol</th>\n",
       "      <th>quality</th>\n",
       "    </tr>\n",
       "  </thead>\n",
       "  <tbody>\n",
       "    <tr>\n",
       "      <th>1169</th>\n",
       "      <td>7.6</td>\n",
       "      <td>0.500</td>\n",
       "      <td>0.29</td>\n",
       "      <td>2.3</td>\n",
       "      <td>0.086</td>\n",
       "      <td>5.0</td>\n",
       "      <td>14.0</td>\n",
       "      <td>0.99502</td>\n",
       "      <td>3.32</td>\n",
       "      <td>0.62</td>\n",
       "      <td>11.5</td>\n",
       "      <td>0</td>\n",
       "    </tr>\n",
       "    <tr>\n",
       "      <th>1510</th>\n",
       "      <td>6.4</td>\n",
       "      <td>0.360</td>\n",
       "      <td>0.21</td>\n",
       "      <td>2.2</td>\n",
       "      <td>0.047</td>\n",
       "      <td>26.0</td>\n",
       "      <td>48.0</td>\n",
       "      <td>0.99661</td>\n",
       "      <td>3.47</td>\n",
       "      <td>0.77</td>\n",
       "      <td>9.7</td>\n",
       "      <td>0</td>\n",
       "    </tr>\n",
       "    <tr>\n",
       "      <th>982</th>\n",
       "      <td>7.3</td>\n",
       "      <td>0.520</td>\n",
       "      <td>0.32</td>\n",
       "      <td>2.1</td>\n",
       "      <td>0.070</td>\n",
       "      <td>51.0</td>\n",
       "      <td>70.0</td>\n",
       "      <td>0.99418</td>\n",
       "      <td>3.34</td>\n",
       "      <td>0.82</td>\n",
       "      <td>12.9</td>\n",
       "      <td>0</td>\n",
       "    </tr>\n",
       "    <tr>\n",
       "      <th>1520</th>\n",
       "      <td>6.5</td>\n",
       "      <td>0.530</td>\n",
       "      <td>0.06</td>\n",
       "      <td>2.0</td>\n",
       "      <td>0.063</td>\n",
       "      <td>29.0</td>\n",
       "      <td>44.0</td>\n",
       "      <td>0.99489</td>\n",
       "      <td>3.38</td>\n",
       "      <td>0.83</td>\n",
       "      <td>10.3</td>\n",
       "      <td>0</td>\n",
       "    </tr>\n",
       "    <tr>\n",
       "      <th>283</th>\n",
       "      <td>8.9</td>\n",
       "      <td>0.400</td>\n",
       "      <td>0.32</td>\n",
       "      <td>5.6</td>\n",
       "      <td>0.087</td>\n",
       "      <td>10.0</td>\n",
       "      <td>47.0</td>\n",
       "      <td>0.99910</td>\n",
       "      <td>3.38</td>\n",
       "      <td>0.77</td>\n",
       "      <td>10.5</td>\n",
       "      <td>1</td>\n",
       "    </tr>\n",
       "    <tr>\n",
       "      <th>...</th>\n",
       "      <td>...</td>\n",
       "      <td>...</td>\n",
       "      <td>...</td>\n",
       "      <td>...</td>\n",
       "      <td>...</td>\n",
       "      <td>...</td>\n",
       "      <td>...</td>\n",
       "      <td>...</td>\n",
       "      <td>...</td>\n",
       "      <td>...</td>\n",
       "      <td>...</td>\n",
       "      <td>...</td>\n",
       "    </tr>\n",
       "    <tr>\n",
       "      <th>997</th>\n",
       "      <td>5.6</td>\n",
       "      <td>0.660</td>\n",
       "      <td>0.00</td>\n",
       "      <td>2.2</td>\n",
       "      <td>0.087</td>\n",
       "      <td>3.0</td>\n",
       "      <td>11.0</td>\n",
       "      <td>0.99378</td>\n",
       "      <td>3.71</td>\n",
       "      <td>0.63</td>\n",
       "      <td>12.8</td>\n",
       "      <td>1</td>\n",
       "    </tr>\n",
       "    <tr>\n",
       "      <th>915</th>\n",
       "      <td>8.6</td>\n",
       "      <td>0.315</td>\n",
       "      <td>0.40</td>\n",
       "      <td>2.2</td>\n",
       "      <td>0.079</td>\n",
       "      <td>3.0</td>\n",
       "      <td>6.0</td>\n",
       "      <td>0.99512</td>\n",
       "      <td>3.27</td>\n",
       "      <td>0.67</td>\n",
       "      <td>11.9</td>\n",
       "      <td>0</td>\n",
       "    </tr>\n",
       "    <tr>\n",
       "      <th>640</th>\n",
       "      <td>9.9</td>\n",
       "      <td>0.540</td>\n",
       "      <td>0.45</td>\n",
       "      <td>2.3</td>\n",
       "      <td>0.071</td>\n",
       "      <td>16.0</td>\n",
       "      <td>40.0</td>\n",
       "      <td>0.99910</td>\n",
       "      <td>3.39</td>\n",
       "      <td>0.62</td>\n",
       "      <td>9.4</td>\n",
       "      <td>0</td>\n",
       "    </tr>\n",
       "    <tr>\n",
       "      <th>206</th>\n",
       "      <td>12.8</td>\n",
       "      <td>0.300</td>\n",
       "      <td>0.74</td>\n",
       "      <td>2.6</td>\n",
       "      <td>0.095</td>\n",
       "      <td>9.0</td>\n",
       "      <td>28.0</td>\n",
       "      <td>0.99940</td>\n",
       "      <td>3.20</td>\n",
       "      <td>0.77</td>\n",
       "      <td>10.8</td>\n",
       "      <td>1</td>\n",
       "    </tr>\n",
       "    <tr>\n",
       "      <th>1185</th>\n",
       "      <td>7.0</td>\n",
       "      <td>0.430</td>\n",
       "      <td>0.30</td>\n",
       "      <td>2.0</td>\n",
       "      <td>0.085</td>\n",
       "      <td>6.0</td>\n",
       "      <td>39.0</td>\n",
       "      <td>0.99346</td>\n",
       "      <td>3.33</td>\n",
       "      <td>0.46</td>\n",
       "      <td>11.9</td>\n",
       "      <td>0</td>\n",
       "    </tr>\n",
       "  </tbody>\n",
       "</table>\n",
       "<p>1119 rows × 12 columns</p>\n",
       "</div>"
      ],
      "text/plain": [
       "      fixed acidity  volatile acidity  citric acid  residual sugar  chlorides  \\\n",
       "1169            7.6             0.500         0.29             2.3      0.086   \n",
       "1510            6.4             0.360         0.21             2.2      0.047   \n",
       "982             7.3             0.520         0.32             2.1      0.070   \n",
       "1520            6.5             0.530         0.06             2.0      0.063   \n",
       "283             8.9             0.400         0.32             5.6      0.087   \n",
       "...             ...               ...          ...             ...        ...   \n",
       "997             5.6             0.660         0.00             2.2      0.087   \n",
       "915             8.6             0.315         0.40             2.2      0.079   \n",
       "640             9.9             0.540         0.45             2.3      0.071   \n",
       "206            12.8             0.300         0.74             2.6      0.095   \n",
       "1185            7.0             0.430         0.30             2.0      0.085   \n",
       "\n",
       "      free sulfur dioxide  total sulfur dioxide  density    pH  sulphates  \\\n",
       "1169                  5.0                  14.0  0.99502  3.32       0.62   \n",
       "1510                 26.0                  48.0  0.99661  3.47       0.77   \n",
       "982                  51.0                  70.0  0.99418  3.34       0.82   \n",
       "1520                 29.0                  44.0  0.99489  3.38       0.83   \n",
       "283                  10.0                  47.0  0.99910  3.38       0.77   \n",
       "...                   ...                   ...      ...   ...        ...   \n",
       "997                   3.0                  11.0  0.99378  3.71       0.63   \n",
       "915                   3.0                   6.0  0.99512  3.27       0.67   \n",
       "640                  16.0                  40.0  0.99910  3.39       0.62   \n",
       "206                   9.0                  28.0  0.99940  3.20       0.77   \n",
       "1185                  6.0                  39.0  0.99346  3.33       0.46   \n",
       "\n",
       "      alcohol  quality  \n",
       "1169     11.5        0  \n",
       "1510      9.7        0  \n",
       "982      12.9        0  \n",
       "1520     10.3        0  \n",
       "283      10.5        1  \n",
       "...       ...      ...  \n",
       "997      12.8        1  \n",
       "915      11.9        0  \n",
       "640       9.4        0  \n",
       "206      10.8        1  \n",
       "1185     11.9        0  \n",
       "\n",
       "[1119 rows x 12 columns]"
      ]
     },
     "execution_count": 3,
     "metadata": {},
     "output_type": "execute_result"
    }
   ],
   "source": [
    "df"
   ]
  },
  {
   "cell_type": "code",
   "execution_count": 4,
   "id": "three-stylus",
   "metadata": {},
   "outputs": [
    {
     "data": {
      "text/plain": [
       "0    0.864164\n",
       "1    0.135836\n",
       "Name: quality, dtype: float64"
      ]
     },
     "execution_count": 4,
     "metadata": {},
     "output_type": "execute_result"
    }
   ],
   "source": [
    "counts = df.quality.value_counts(normalize=True)\n",
    "counts"
   ]
  },
  {
   "cell_type": "code",
   "execution_count": 5,
   "id": "supported-bennett",
   "metadata": {},
   "outputs": [
    {
     "data": {
      "text/plain": [
       "((1119, 11), (1119,))"
      ]
     },
     "execution_count": 5,
     "metadata": {},
     "output_type": "execute_result"
    }
   ],
   "source": [
    "X = df.drop(columns='quality')\n",
    "y = df.loc[:, 'quality'].to_numpy()\n",
    "\n",
    "X.shape, y.shape"
   ]
  },
  {
   "cell_type": "code",
   "execution_count": 6,
   "id": "sought-specialist",
   "metadata": {
    "scrolled": true
   },
   "outputs": [
    {
     "data": {
      "text/html": [
       "<div>\n",
       "<style scoped>\n",
       "    .dataframe tbody tr th:only-of-type {\n",
       "        vertical-align: middle;\n",
       "    }\n",
       "\n",
       "    .dataframe tbody tr th {\n",
       "        vertical-align: top;\n",
       "    }\n",
       "\n",
       "    .dataframe thead th {\n",
       "        text-align: right;\n",
       "    }\n",
       "</style>\n",
       "<table border=\"1\" class=\"dataframe\">\n",
       "  <thead>\n",
       "    <tr style=\"text-align: right;\">\n",
       "      <th></th>\n",
       "      <th>fixed acidity</th>\n",
       "      <th>volatile acidity</th>\n",
       "      <th>citric acid</th>\n",
       "      <th>residual sugar</th>\n",
       "      <th>chlorides</th>\n",
       "      <th>free sulfur dioxide</th>\n",
       "      <th>total sulfur dioxide</th>\n",
       "      <th>density</th>\n",
       "      <th>pH</th>\n",
       "      <th>sulphates</th>\n",
       "      <th>alcohol</th>\n",
       "    </tr>\n",
       "  </thead>\n",
       "  <tbody>\n",
       "    <tr>\n",
       "      <th>1169</th>\n",
       "      <td>7.6</td>\n",
       "      <td>0.50</td>\n",
       "      <td>0.29</td>\n",
       "      <td>2.3</td>\n",
       "      <td>0.086</td>\n",
       "      <td>5.0</td>\n",
       "      <td>14.0</td>\n",
       "      <td>0.99502</td>\n",
       "      <td>3.32</td>\n",
       "      <td>0.62</td>\n",
       "      <td>11.5</td>\n",
       "    </tr>\n",
       "    <tr>\n",
       "      <th>1510</th>\n",
       "      <td>6.4</td>\n",
       "      <td>0.36</td>\n",
       "      <td>0.21</td>\n",
       "      <td>2.2</td>\n",
       "      <td>0.047</td>\n",
       "      <td>26.0</td>\n",
       "      <td>48.0</td>\n",
       "      <td>0.99661</td>\n",
       "      <td>3.47</td>\n",
       "      <td>0.77</td>\n",
       "      <td>9.7</td>\n",
       "    </tr>\n",
       "    <tr>\n",
       "      <th>982</th>\n",
       "      <td>7.3</td>\n",
       "      <td>0.52</td>\n",
       "      <td>0.32</td>\n",
       "      <td>2.1</td>\n",
       "      <td>0.070</td>\n",
       "      <td>51.0</td>\n",
       "      <td>70.0</td>\n",
       "      <td>0.99418</td>\n",
       "      <td>3.34</td>\n",
       "      <td>0.82</td>\n",
       "      <td>12.9</td>\n",
       "    </tr>\n",
       "    <tr>\n",
       "      <th>1520</th>\n",
       "      <td>6.5</td>\n",
       "      <td>0.53</td>\n",
       "      <td>0.06</td>\n",
       "      <td>2.0</td>\n",
       "      <td>0.063</td>\n",
       "      <td>29.0</td>\n",
       "      <td>44.0</td>\n",
       "      <td>0.99489</td>\n",
       "      <td>3.38</td>\n",
       "      <td>0.83</td>\n",
       "      <td>10.3</td>\n",
       "    </tr>\n",
       "    <tr>\n",
       "      <th>283</th>\n",
       "      <td>8.9</td>\n",
       "      <td>0.40</td>\n",
       "      <td>0.32</td>\n",
       "      <td>5.6</td>\n",
       "      <td>0.087</td>\n",
       "      <td>10.0</td>\n",
       "      <td>47.0</td>\n",
       "      <td>0.99910</td>\n",
       "      <td>3.38</td>\n",
       "      <td>0.77</td>\n",
       "      <td>10.5</td>\n",
       "    </tr>\n",
       "  </tbody>\n",
       "</table>\n",
       "</div>"
      ],
      "text/plain": [
       "      fixed acidity  volatile acidity  citric acid  residual sugar  chlorides  \\\n",
       "1169            7.6              0.50         0.29             2.3      0.086   \n",
       "1510            6.4              0.36         0.21             2.2      0.047   \n",
       "982             7.3              0.52         0.32             2.1      0.070   \n",
       "1520            6.5              0.53         0.06             2.0      0.063   \n",
       "283             8.9              0.40         0.32             5.6      0.087   \n",
       "\n",
       "      free sulfur dioxide  total sulfur dioxide  density    pH  sulphates  \\\n",
       "1169                  5.0                  14.0  0.99502  3.32       0.62   \n",
       "1510                 26.0                  48.0  0.99661  3.47       0.77   \n",
       "982                  51.0                  70.0  0.99418  3.34       0.82   \n",
       "1520                 29.0                  44.0  0.99489  3.38       0.83   \n",
       "283                  10.0                  47.0  0.99910  3.38       0.77   \n",
       "\n",
       "      alcohol  \n",
       "1169     11.5  \n",
       "1510      9.7  \n",
       "982      12.9  \n",
       "1520     10.3  \n",
       "283      10.5  "
      ]
     },
     "execution_count": 6,
     "metadata": {},
     "output_type": "execute_result"
    }
   ],
   "source": [
    "X.head(5)"
   ]
  },
  {
   "cell_type": "markdown",
   "id": "intellectual-sport",
   "metadata": {},
   "source": [
    "### Plotando o boxplot de uma das colunas\n",
    "\n",
    "Referencia: https://pandas.pydata.org/docs/reference/api/pandas.DataFrame.boxplot.html\n",
    "\n",
    "**OBS**: Na referencia acima, podemos ver como visualizar vários gráficos diferentes (a maneira é bem semelhante, só muda o nome da função)"
   ]
  },
  {
   "cell_type": "markdown",
   "id": "applied-monkey",
   "metadata": {},
   "source": [
    "Basta chamar a função boxplot e passar no argumento '**column**' o nome da coluna"
   ]
  },
  {
   "cell_type": "code",
   "execution_count": 7,
   "id": "statutory-genius",
   "metadata": {},
   "outputs": [
    {
     "data": {
      "text/plain": [
       "<AxesSubplot:>"
      ]
     },
     "execution_count": 7,
     "metadata": {},
     "output_type": "execute_result"
    },
    {
     "data": {
      "image/png": "[encoded data removed]",
      "text/plain": [
       "<Figure size 432x288 with 1 Axes>"
      ]
     },
     "metadata": {
      "needs_background": "light"
     },
     "output_type": "display_data"
    }
   ],
   "source": [
    "X.boxplot(column='pH') "
   ]
  },
  {
   "cell_type": "markdown",
   "id": "informal-pollution",
   "metadata": {},
   "source": [
    "Pode-se plotar várias colunas de uma vez, usando uma **lista**"
   ]
  },
  {
   "cell_type": "code",
   "execution_count": 8,
   "id": "exciting-religious",
   "metadata": {},
   "outputs": [
    {
     "data": {
      "text/plain": [
       "<AxesSubplot:>"
      ]
     },
     "execution_count": 8,
     "metadata": {},
     "output_type": "execute_result"
    },
    {
     "data": {
      "image/png": "[encoded data removed]",
      "text/plain": [
       "<Figure size 432x288 with 1 Axes>"
      ]
     },
     "metadata": {
      "needs_background": "light"
     },
     "output_type": "display_data"
    }
   ],
   "source": [
    "X.boxplot(column=['fixed acidity', 'volatile acidity', 'citric acid']) "
   ]
  },
  {
   "cell_type": "markdown",
   "id": "residential-knowing",
   "metadata": {},
   "source": [
    "### Plotando cada coluna em um gráfico separado:"
   ]
  },
  {
   "cell_type": "markdown",
   "id": "numeric-religious",
   "metadata": {},
   "source": [
    "Bibliotecas auxiliares:\n",
    "- matplotlib: visualização dos dados\n",
    "- math: operações matemáticas"
   ]
  },
  {
   "cell_type": "code",
   "execution_count": 9,
   "id": "silent-retention",
   "metadata": {},
   "outputs": [],
   "source": [
    "import matplotlib.pyplot as plt\n",
    "import math"
   ]
  },
  {
   "cell_type": "code",
   "execution_count": 10,
   "id": "constant-participation",
   "metadata": {},
   "outputs": [
    {
     "data": {
      "text/plain": [
       "11"
      ]
     },
     "execution_count": 10,
     "metadata": {},
     "output_type": "execute_result"
    }
   ],
   "source": [
    "colunas = list(X.columns)\n",
    "len(colunas)"
   ]
  },
  {
   "cell_type": "code",
   "execution_count": 11,
   "id": "talented-origin",
   "metadata": {},
   "outputs": [
    {
     "data": {
      "image/png": "[encoded data removed]",
      "text/plain": [
       "<Figure size 720x1440 with 12 Axes>"
      ]
     },
     "metadata": {
      "needs_background": "light"
     },
     "output_type": "display_data"
    }
   ],
   "source": [
    "fig, axes = plt.subplots(nrows= math.ceil(len(colunas)/2), ncols=2, figsize=(10,20))\n",
    "\n",
    "for i, coluna in enumerate(colunas):\n",
    "    X.boxplot(ax=axes[i//2, i%2], column=coluna)\n"
   ]
  }
 ],
 "metadata": {
  "kernelspec": {
   "display_name": "Python 3",
   "language": "python",
   "name": "python3"
  },
  "language_info": {
   "codemirror_mode": {
    "name": "ipython",
    "version": 3
   },
   "file_extension": ".py",
   "mimetype": "text/x-python",
   "name": "python",
   "nbconvert_exporter": "python",
   "pygments_lexer": "ipython3",
   "version": "3.8.8"
  }
 },
 "nbformat": 4,
 "nbformat_minor": 5
}
